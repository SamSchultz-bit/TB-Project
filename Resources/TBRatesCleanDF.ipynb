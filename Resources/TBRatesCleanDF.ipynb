{
 "cells": [
  {
   "cell_type": "code",
   "execution_count": null,
   "id": "6cde69a2",
   "metadata": {},
   "outputs": [],
   "source": [
    "# Dependencies\n",
    "import pandas as pd\n",
    "import numpy as np\n",
    "from pathlib import Path\n",
    "import matplotlib.pyplot as plt\n",
    "import os\n",
    "import csv"
   ]
  },
  {
   "cell_type": "code",
   "execution_count": null,
   "id": "e07b25b3",
   "metadata": {
    "scrolled": true
   },
   "outputs": [],
   "source": [
    "# Pathway of the CSV\n",
    "TBRate_path = os.path.join(\"Resources\", \"TB_Rates_Cleaned.csv\")\n",
    "\n",
    "# Pathway of the CSV\n",
    "TBRate_path = os.path.join(\"Resources\", \"TB_Rates_Cleaned.csv\")\n",
    "\n",
    "# Read the CSV using pandas\n",
    "TBRate_df = pd.read_csv(TBRate_path)\n",
    "\n",
    "# Read Columns\n",
    "TBRate_df.columns\n"
   ]
  },
  {
   "cell_type": "code",
   "execution_count": null,
   "id": "6293c816",
   "metadata": {},
   "outputs": [],
   "source": [
    "# Get unique ISO 3 codes\n",
    "unique_iso3_codes = TBRate_df['iso3'].unique()\n",
    "\n",
    "# Read ISO3 Codes\n",
    "print(unique_iso3_codes)"
   ]
  },
  {
   "cell_type": "code",
   "execution_count": null,
   "id": "4ac92ae4",
   "metadata": {},
   "outputs": [],
   "source": [
    "# Create a separate plot for each ISO 3 code\n",
    "for iso3_code in unique_iso3_codes:\n",
    "    # Filter data for the current ISO 3 code\n",
    "    filtered_df = TBRate_df[TBRate_df['iso3'] == iso3_code]\n",
    "    \n",
    "    # Create a chart using matplotlib\n",
    "    plt.figure(figsize=(5, 3))\n",
    "    plt.plot(filtered_df['year'], filtered_df['e_inc_100k'], marker='o')\n",
    "\n",
    "    plt.xlabel('Year')\n",
    "    plt.ylabel('Estimated Incidence per 100,000')\n",
    "    plt.title(f'TB Incidence for {iso3_code}')\n",
    "    plt.grid(True)\n",
    "    plt.tight_layout()\n",
    "\n",
    "    # Display the chart\n",
    "    plt.show()"
   ]
  },
  {
   "cell_type": "code",
   "execution_count": null,
   "id": "0923a71f",
   "metadata": {},
   "outputs": [],
   "source": [
    "# Get unique WHO Region codes\n",
    "unique_whoregion_codes = TBRate_df['g_whoregion'].unique()\n",
    "\n",
    "# Read ISO3 Codes\n",
    "print(unique_whoregion_codes)"
   ]
  },
  {
   "cell_type": "code",
   "execution_count": null,
   "id": "3f147e03",
   "metadata": {},
   "outputs": [],
   "source": [
    "# Get unique WHO Region codes\n",
    "unique_whoregion_codes = TBRate_df['g_whoregion'].unique()\n",
    "\n",
    "# Create subplots for each WHO Region code\n",
    "fig, axes = plt.subplots(nrows=len(unique_whoregion_codes), ncols=1, figsize=(10, 6*len(unique_whoregion_codes)))\n",
    "\n",
    "# Iterate through each WHO Region code and create a subplot\n",
    "for i, whoregion_code in enumerate(unique_whoregion_codes):\n",
    "    # Filter data for the current WHO Region code\n",
    "    filtered_df = TBRate_df[TBRate_df['g_whoregion'] == whoregion_code]\n",
    "    \n",
    "    # Create a bar graph using matplotlib\n",
    "    ax = axes[i]\n",
    "    ax.bar(filtered_df['year'], filtered_df['e_inc_100k'], label=whoregion_code)\n",
    "    ax.set_xlabel('Year')\n",
    "    ax.set_ylabel('Estimated Incidence per 100,000')\n",
    "    ax.set_title(f'TB Incidence for {whoregion_code}')\n",
    "    ax.grid(True)\n",
    "\n",
    "# Adjust spacing between subplots\n",
    "plt.subplots_adjust(hspace=0.5)\n",
    "\n",
    "# Display the subplots\n",
    "plt.show()"
   ]
  },
  {
   "cell_type": "code",
   "execution_count": null,
   "id": "b4a9e473",
   "metadata": {},
   "outputs": [],
   "source": []
  }
 ],
 "metadata": {
  "kernelspec": {
   "display_name": "Python 3 (ipykernel)",
   "language": "python",
   "name": "python3"
  },
  "language_info": {
   "codemirror_mode": {
    "name": "ipython",
    "version": 3
   },
   "file_extension": ".py",
   "mimetype": "text/x-python",
   "name": "python",
   "nbconvert_exporter": "python",
   "pygments_lexer": "ipython3",
   "version": "3.10.12"
  }
 },
 "nbformat": 4,
 "nbformat_minor": 5
}
